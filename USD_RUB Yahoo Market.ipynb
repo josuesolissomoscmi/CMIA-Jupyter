{
 "cells": [
  {
   "cell_type": "code",
   "execution_count": 54,
   "metadata": {},
   "outputs": [],
   "source": [
    "import pandas as pd\n",
    "import datetime\n",
    "import urllib\n",
    "import numpy as np\n",
    "from io import BytesIO\n",
    "from io import StringIO"
   ]
  },
  {
   "cell_type": "code",
   "execution_count": 12,
   "metadata": {},
   "outputs": [],
   "source": [
    "def get_data(symbol,start,end):\n",
    "    base_url = 'https://query1.finance.yahoo.com/v7/finance/download/'\n",
    "    #EJ Symbol: ^GSPC\n",
    "    base_url = base_url+symbol+'?%s'\n",
    "    payload = urllib.parse.urlencode({'period1': start, 'period2': end, 'interval': '1d', 'events':'history'})\n",
    "\n",
    "    req = urllib.request.urlopen(base_url % payload)\n",
    "    req_read = req.read()\n",
    "    file_download = BytesIO(req_read)\n",
    "\n",
    "    df = pd.read_csv(file_download)\n",
    "\n",
    "    df['Close'].replace('', np.nan, inplace=True)\n",
    "    df.dropna(subset=['Close'], inplace=True)\n",
    "    \n",
    "    df['Symbol'] = symbol\n",
    "    df['actualizacion'] = datetime.datetime.now()\n",
    "\n",
    "    return df"
   ]
  },
  {
   "cell_type": "code",
   "execution_count": 44,
   "metadata": {},
   "outputs": [],
   "source": [
    "def upload_azure():\n",
    "    #Verificar si la ruta existe.\n",
    "    #symbols = ['^GSPC','GC=F','BG','SI=F','^DJI','GLEN.L','ADM']\n",
    "\n",
    "    data = pd.DataFrame()\n",
    "\n",
    "\n",
    "    symbol = 'USDRUB=X'\n",
    "    max_date = datetime.datetime(2010, 1, 4, 0, 0) #'2010-01-04'\n",
    "\n",
    "    start_date = datetime.datetime.combine(max_date, datetime.datetime.min.time()) + datetime.timedelta(days=1)\n",
    "    end_date = datetime.datetime.now() - datetime.timedelta(days=1)\n",
    "\n",
    "    date_now_timestamp = str(datetime.datetime.timestamp(start_date)).split('.')\n",
    "    start = date_now_timestamp[0]\n",
    "\n",
    "    date_now_timestamp = str(datetime.datetime.timestamp(end_date)).split('.')\n",
    "    end = date_now_timestamp[0]\n",
    "\n",
    "    symbol_data = get_data(symbol,start,end)\n",
    "\n",
    "    if(symbol_data.empty):\n",
    "        return '{\"Result\":\"False\"}'\n",
    "\n",
    "    file_download = symbol_data.to_csv(header=True,index=False,encoding='utf-8-sig')        \n",
    "    #name = 'YAHOO_FINANCE.csv'\n",
    "    \n",
    "    return file_download"
   ]
  },
  {
   "cell_type": "code",
   "execution_count": 45,
   "metadata": {},
   "outputs": [],
   "source": [
    "yah = upload_azure()"
   ]
  },
  {
   "cell_type": "code",
   "execution_count": 55,
   "metadata": {},
   "outputs": [],
   "source": [
    "yah_csv = StringIO(yah)\n",
    "yah_pd = pd.read_csv(yah_csv, sep=',')"
   ]
  },
  {
   "cell_type": "code",
   "execution_count": 56,
   "metadata": {},
   "outputs": [
    {
     "data": {
      "text/html": [
       "<div>\n",
       "<style scoped>\n",
       "    .dataframe tbody tr th:only-of-type {\n",
       "        vertical-align: middle;\n",
       "    }\n",
       "\n",
       "    .dataframe tbody tr th {\n",
       "        vertical-align: top;\n",
       "    }\n",
       "\n",
       "    .dataframe thead th {\n",
       "        text-align: right;\n",
       "    }\n",
       "</style>\n",
       "<table border=\"1\" class=\"dataframe\">\n",
       "  <thead>\n",
       "    <tr style=\"text-align: right;\">\n",
       "      <th></th>\n",
       "      <th>Date</th>\n",
       "      <th>Open</th>\n",
       "      <th>High</th>\n",
       "      <th>Low</th>\n",
       "      <th>Close</th>\n",
       "      <th>Adj Close</th>\n",
       "      <th>Volume</th>\n",
       "      <th>Symbol</th>\n",
       "      <th>actualizacion</th>\n",
       "    </tr>\n",
       "  </thead>\n",
       "  <tbody>\n",
       "    <tr>\n",
       "      <th>0</th>\n",
       "      <td>2010-01-05</td>\n",
       "      <td>29.913000</td>\n",
       "      <td>29.995199</td>\n",
       "      <td>29.905001</td>\n",
       "      <td>29.995199</td>\n",
       "      <td>29.995199</td>\n",
       "      <td>0.0</td>\n",
       "      <td>USDRUB=X</td>\n",
       "      <td>2020-07-16 12:48:19.189815</td>\n",
       "    </tr>\n",
       "    <tr>\n",
       "      <th>1</th>\n",
       "      <td>2010-01-06</td>\n",
       "      <td>29.995199</td>\n",
       "      <td>30.051001</td>\n",
       "      <td>29.271000</td>\n",
       "      <td>29.995199</td>\n",
       "      <td>29.995199</td>\n",
       "      <td>0.0</td>\n",
       "      <td>USDRUB=X</td>\n",
       "      <td>2020-07-16 12:48:19.189815</td>\n",
       "    </tr>\n",
       "    <tr>\n",
       "      <th>2</th>\n",
       "      <td>2010-01-07</td>\n",
       "      <td>28.812000</td>\n",
       "      <td>29.995199</td>\n",
       "      <td>28.812000</td>\n",
       "      <td>29.995199</td>\n",
       "      <td>29.995199</td>\n",
       "      <td>0.0</td>\n",
       "      <td>USDRUB=X</td>\n",
       "      <td>2020-07-16 12:48:19.189815</td>\n",
       "    </tr>\n",
       "    <tr>\n",
       "      <th>3</th>\n",
       "      <td>2010-01-08</td>\n",
       "      <td>29.995199</td>\n",
       "      <td>29.995199</td>\n",
       "      <td>29.830000</td>\n",
       "      <td>29.865999</td>\n",
       "      <td>29.865999</td>\n",
       "      <td>0.0</td>\n",
       "      <td>USDRUB=X</td>\n",
       "      <td>2020-07-16 12:48:19.189815</td>\n",
       "    </tr>\n",
       "    <tr>\n",
       "      <th>4</th>\n",
       "      <td>2010-01-11</td>\n",
       "      <td>29.864000</td>\n",
       "      <td>29.875000</td>\n",
       "      <td>29.273800</td>\n",
       "      <td>29.313700</td>\n",
       "      <td>29.313700</td>\n",
       "      <td>0.0</td>\n",
       "      <td>USDRUB=X</td>\n",
       "      <td>2020-07-16 12:48:19.189815</td>\n",
       "    </tr>\n",
       "  </tbody>\n",
       "</table>\n",
       "</div>"
      ],
      "text/plain": [
       "         Date       Open       High        Low      Close  Adj Close  Volume  \\\n",
       "0  2010-01-05  29.913000  29.995199  29.905001  29.995199  29.995199     0.0   \n",
       "1  2010-01-06  29.995199  30.051001  29.271000  29.995199  29.995199     0.0   \n",
       "2  2010-01-07  28.812000  29.995199  28.812000  29.995199  29.995199     0.0   \n",
       "3  2010-01-08  29.995199  29.995199  29.830000  29.865999  29.865999     0.0   \n",
       "4  2010-01-11  29.864000  29.875000  29.273800  29.313700  29.313700     0.0   \n",
       "\n",
       "     Symbol               actualizacion  \n",
       "0  USDRUB=X  2020-07-16 12:48:19.189815  \n",
       "1  USDRUB=X  2020-07-16 12:48:19.189815  \n",
       "2  USDRUB=X  2020-07-16 12:48:19.189815  \n",
       "3  USDRUB=X  2020-07-16 12:48:19.189815  \n",
       "4  USDRUB=X  2020-07-16 12:48:19.189815  "
      ]
     },
     "execution_count": 56,
     "metadata": {},
     "output_type": "execute_result"
    }
   ],
   "source": [
    "yah_pd.head()"
   ]
  },
  {
   "cell_type": "code",
   "execution_count": 57,
   "metadata": {},
   "outputs": [],
   "source": [
    "yah_pd.to_csv('YAHOO_FINANCE.csv',index=False)"
   ]
  }
 ],
 "metadata": {
  "kernelspec": {
   "display_name": "custom-venv",
   "language": "python",
   "name": "local-venv"
  },
  "language_info": {
   "codemirror_mode": {
    "name": "ipython",
    "version": 3
   },
   "file_extension": ".py",
   "mimetype": "text/x-python",
   "name": "python",
   "nbconvert_exporter": "python",
   "pygments_lexer": "ipython3",
   "version": "3.8.0"
  }
 },
 "nbformat": 4,
 "nbformat_minor": 2
}
