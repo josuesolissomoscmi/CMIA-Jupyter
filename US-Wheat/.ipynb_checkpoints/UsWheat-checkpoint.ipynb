{
 "cells": [
  {
   "cell_type": "code",
   "execution_count": 1,
   "metadata": {},
   "outputs": [],
   "source": [
    "import pandas as pd\n",
    "import numpy as np\n",
    "import re\n",
    "from tabula import read_pdf"
   ]
  },
  {
   "cell_type": "code",
   "execution_count": 2,
   "metadata": {},
   "outputs": [],
   "source": [
    "df = read_pdf('Files/PR-180406.pdf',\n",
    "              guess=False,\n",
    "              pages=1\n",
    "             )"
   ]
  },
  {
   "cell_type": "code",
   "execution_count": 3,
   "metadata": {},
   "outputs": [
    {
     "data": {
      "text/html": [
       "<div>\n",
       "<style scoped>\n",
       "    .dataframe tbody tr th:only-of-type {\n",
       "        vertical-align: middle;\n",
       "    }\n",
       "\n",
       "    .dataframe tbody tr th {\n",
       "        vertical-align: top;\n",
       "    }\n",
       "\n",
       "    .dataframe thead th {\n",
       "        text-align: right;\n",
       "    }\n",
       "</style>\n",
       "<table border=\"1\" class=\"dataframe\">\n",
       "  <thead>\n",
       "    <tr style=\"text-align: right;\">\n",
       "      <th></th>\n",
       "      <th>Unnamed: 0</th>\n",
       "      <th>U.S. Wheat Associates</th>\n",
       "      <th>Unnamed: 1</th>\n",
       "      <th>Unnamed: 2</th>\n",
       "      <th>Unnamed: 3</th>\n",
       "      <th>Unnamed: 4</th>\n",
       "      <th>Unnamed: 5</th>\n",
       "      <th>Unnamed: 6</th>\n",
       "      <th>Unnamed: 7</th>\n",
       "      <th>Unnamed: 8</th>\n",
       "    </tr>\n",
       "  </thead>\n",
       "  <tbody>\n",
       "    <tr>\n",
       "      <th>0</th>\n",
       "      <td>NaN</td>\n",
       "      <td>Weekly Price Report</td>\n",
       "      <td>NaN</td>\n",
       "      <td>NaN</td>\n",
       "      <td>NaN</td>\n",
       "      <td>NaN</td>\n",
       "      <td>NaN</td>\n",
       "      <td>NaN</td>\n",
       "      <td>NaN</td>\n",
       "      <td>NaN</td>\n",
       "    </tr>\n",
       "    <tr>\n",
       "      <th>1</th>\n",
       "      <td>NaN</td>\n",
       "      <td>April 6, 2018</td>\n",
       "      <td>NaN</td>\n",
       "      <td>NaN</td>\n",
       "      <td>NaN</td>\n",
       "      <td>NaN</td>\n",
       "      <td>NaN</td>\n",
       "      <td>NaN</td>\n",
       "      <td>NaN</td>\n",
       "      <td>NaN</td>\n",
       "    </tr>\n",
       "    <tr>\n",
       "      <th>2</th>\n",
       "      <td>NaN</td>\n",
       "      <td>APR (K18)</td>\n",
       "      <td>APR (K18)</td>\n",
       "      <td>MAY (K18)</td>\n",
       "      <td>JUN (N18)</td>\n",
       "      <td>JUL (N18)</td>\n",
       "      <td>AUG (U18)</td>\n",
       "      <td>SEP (U18)</td>\n",
       "      <td>OCT (Z18)</td>\n",
       "      <td>Year Ago</td>\n",
       "    </tr>\n",
       "    <tr>\n",
       "      <th>3</th>\n",
       "      <td>Export</td>\n",
       "      <td>NaN</td>\n",
       "      <td>NaN</td>\n",
       "      <td>NaN</td>\n",
       "      <td>NaN</td>\n",
       "      <td>NaN</td>\n",
       "      <td>NaN</td>\n",
       "      <td>NaN</td>\n",
       "      <td>NaN</td>\n",
       "      <td>NaN</td>\n",
       "    </tr>\n",
       "    <tr>\n",
       "      <th>4</th>\n",
       "      <td>NaN</td>\n",
       "      <td>Percent Protein (nearbys) week change</td>\n",
       "      <td>FOB Basis</td>\n",
       "      <td>FOB Basis</td>\n",
       "      <td>FOB Basis</td>\n",
       "      <td>FOB Basis</td>\n",
       "      <td>FOB Basis</td>\n",
       "      <td>FOB Basis</td>\n",
       "      <td>FOB Basis</td>\n",
       "      <td>(nearbys)</td>\n",
       "    </tr>\n",
       "    <tr>\n",
       "      <th>5</th>\n",
       "      <td>Region</td>\n",
       "      <td>NaN</td>\n",
       "      <td>NaN</td>\n",
       "      <td>NaN</td>\n",
       "      <td>NaN</td>\n",
       "      <td>NaN</td>\n",
       "      <td>NaN</td>\n",
       "      <td>NaN</td>\n",
       "      <td>NaN</td>\n",
       "      <td>NaN</td>\n",
       "    </tr>\n",
       "    <tr>\n",
       "      <th>6</th>\n",
       "      <td>NaN</td>\n",
       "      <td>12% (Dry) Moisture Basis FOB $/bu $/bu $/MT</td>\n",
       "      <td>$/MT ¢/bu</td>\n",
       "      <td>$/MT ¢/bu</td>\n",
       "      <td>$/MT ¢/bu</td>\n",
       "      <td>$/MT ¢/bu</td>\n",
       "      <td>$/MT ¢/bu</td>\n",
       "      <td>$/MT ¢/bu</td>\n",
       "      <td>$/MT ¢/bu</td>\n",
       "      <td>$/MT</td>\n",
       "    </tr>\n",
       "    <tr>\n",
       "      <th>7</th>\n",
       "      <td>Great</td>\n",
       "      <td>NS/DNS 13.5 (15.3) M 6.67 0.29 11</td>\n",
       "      <td>245 60</td>\n",
       "      <td>243 55</td>\n",
       "      <td>247 55</td>\n",
       "      <td>247 55</td>\n",
       "      <td>247 50</td>\n",
       "      <td>246 45</td>\n",
       "      <td>253 55</td>\n",
       "      <td>209</td>\n",
       "    </tr>\n",
       "    <tr>\n",
       "      <th>8</th>\n",
       "      <td>Lakes</td>\n",
       "      <td>NS/DNS 14.0 (15.9) M 7.02 0.24 9</td>\n",
       "      <td>258 95</td>\n",
       "      <td>256 90</td>\n",
       "      <td>260 90</td>\n",
       "      <td>260 90</td>\n",
       "      <td>260 85</td>\n",
       "      <td>258 80</td>\n",
       "      <td>266 90</td>\n",
       "      <td>214</td>\n",
       "    </tr>\n",
       "    <tr>\n",
       "      <th>9</th>\n",
       "      <td>NaN</td>\n",
       "      <td>NS/DNS 14.5 (16.5) M 7.32 0.29 11</td>\n",
       "      <td>269 125</td>\n",
       "      <td>267 120</td>\n",
       "      <td>271 120</td>\n",
       "      <td>271 120</td>\n",
       "      <td>271 115</td>\n",
       "      <td>270 110</td>\n",
       "      <td>277 120</td>\n",
       "      <td>N/A</td>\n",
       "    </tr>\n",
       "  </tbody>\n",
       "</table>\n",
       "</div>"
      ],
      "text/plain": [
       "  Unnamed: 0                        U.S. Wheat Associates Unnamed: 1  \\\n",
       "0        NaN                          Weekly Price Report        NaN   \n",
       "1        NaN                                April 6, 2018        NaN   \n",
       "2        NaN                                    APR (K18)  APR (K18)   \n",
       "3     Export                                          NaN        NaN   \n",
       "4        NaN        Percent Protein (nearbys) week change  FOB Basis   \n",
       "5     Region                                          NaN        NaN   \n",
       "6        NaN  12% (Dry) Moisture Basis FOB $/bu $/bu $/MT  $/MT ¢/bu   \n",
       "7      Great            NS/DNS 13.5 (15.3) M 6.67 0.29 11     245 60   \n",
       "8      Lakes             NS/DNS 14.0 (15.9) M 7.02 0.24 9     258 95   \n",
       "9        NaN            NS/DNS 14.5 (16.5) M 7.32 0.29 11    269 125   \n",
       "\n",
       "  Unnamed: 2 Unnamed: 3 Unnamed: 4 Unnamed: 5 Unnamed: 6 Unnamed: 7 Unnamed: 8  \n",
       "0        NaN        NaN        NaN        NaN        NaN        NaN        NaN  \n",
       "1        NaN        NaN        NaN        NaN        NaN        NaN        NaN  \n",
       "2  MAY (K18)  JUN (N18)  JUL (N18)  AUG (U18)  SEP (U18)  OCT (Z18)   Year Ago  \n",
       "3        NaN        NaN        NaN        NaN        NaN        NaN        NaN  \n",
       "4  FOB Basis  FOB Basis  FOB Basis  FOB Basis  FOB Basis  FOB Basis  (nearbys)  \n",
       "5        NaN        NaN        NaN        NaN        NaN        NaN        NaN  \n",
       "6  $/MT ¢/bu  $/MT ¢/bu  $/MT ¢/bu  $/MT ¢/bu  $/MT ¢/bu  $/MT ¢/bu       $/MT  \n",
       "7     243 55     247 55     247 55     247 50     246 45     253 55        209  \n",
       "8     256 90     260 90     260 90     260 85     258 80     266 90        214  \n",
       "9    267 120    271 120    271 120    271 115    270 110    277 120        N/A  "
      ]
     },
     "execution_count": 3,
     "metadata": {},
     "output_type": "execute_result"
    }
   ],
   "source": [
    "df[0].head(10)"
   ]
  },
  {
   "cell_type": "code",
   "execution_count": 4,
   "metadata": {},
   "outputs": [],
   "source": [
    "data = df[0]\n",
    "o_header = df[0].columns"
   ]
  },
  {
   "cell_type": "code",
   "execution_count": 5,
   "metadata": {},
   "outputs": [],
   "source": [
    "p = re.compile('^Unnamed.*$')\n",
    "origin_desc = ''.join([ s for s in o_header if not p.match(s) ])\n",
    "#Asumiendo que siempre viene en en la 1 col en las primeras 2 rows.\n",
    "report_desc = ' - '.join(data[o_header[1]][:2])\n",
    "\n",
    "#Traer los meses de exp.\n",
    "\n",
    "#Hacer un IF que el orden sea Fob,Basis"
   ]
  },
  {
   "cell_type": "code",
   "execution_count": 8,
   "metadata": {},
   "outputs": [
    {
     "name": "stdout",
     "output_type": "stream",
     "text": [
      "U.S. Wheat Associates\n",
      "Weekly Price Report - April 6, 2018\n"
     ]
    }
   ],
   "source": [
    "print(origin_desc)\n",
    "print(report_desc)"
   ]
  },
  {
   "cell_type": "code",
   "execution_count": null,
   "metadata": {},
   "outputs": [],
   "source": [
    "if origin_desc == '' or report_desc == '':\n",
    "    print('FALTAN HEADERS, VALIDAR')"
   ]
  },
  {
   "cell_type": "code",
   "execution_count": 34,
   "metadata": {},
   "outputs": [],
   "source": [
    "#HEADER\n",
    "#Asumiendo que mantiene ese rango.\n",
    "header_data = data[o_header[2:]][2:3]"
   ]
  },
  {
   "cell_type": "code",
   "execution_count": 38,
   "metadata": {},
   "outputs": [],
   "source": [
    "#Expiration Months.\n",
    "exp_months = []\n",
    "for i in range(1,8):\n",
    "    col = 'Unnamed: '+ str(i)\n",
    "    exp_months = np.append(exp_months, header_data[col])"
   ]
  },
  {
   "cell_type": "code",
   "execution_count": null,
   "metadata": {},
   "outputs": [],
   "source": [
    "#Places and Gulf.\n",
    "gulf_nm = []\n",
    "\n"
   ]
  },
  {
   "cell_type": "code",
   "execution_count": 39,
   "metadata": {},
   "outputs": [
    {
     "data": {
      "text/plain": [
       "array(['APR (K18)', 'MAY (K18)', 'JUN (N18)', 'JUL (N18)', 'AUG (U18)',\n",
       "       'SEP (U18)', 'OCT (Z18)'], dtype=object)"
      ]
     },
     "execution_count": 39,
     "metadata": {},
     "output_type": "execute_result"
    }
   ],
   "source": [
    "exp_months"
   ]
  },
  {
   "cell_type": "markdown",
   "metadata": {},
   "source": [
    "gulf_nm"
   ]
  },
  {
   "cell_type": "code",
   "execution_count": null,
   "metadata": {},
   "outputs": [],
   "source": [
    "#DATA\n",
    "#Asumiendo que mantiene ese rango.\n",
    "clean_data = data[o_header[1:]][7:31]"
   ]
  },
  {
   "cell_type": "code",
   "execution_count": null,
   "metadata": {},
   "outputs": [],
   "source": [
    "fob_basis = pd.DataFrame()\n",
    "for i in range(1,8):\n",
    "    col = 'Unnamed: '+ str(i)\n",
    "    i_fob = str(i) + '_Fob'\n",
    "    i_basis = str(i) + '_Basis'\n",
    "    i_fob_basis = clean_data[col].str.split(expand=True,).reset_index(drop=True)\n",
    "    i_fob_basis.columns = [i_fob, i_basis]\n",
    "    fob_basis = pd.concat([fob_basis,i_fob_basis], axis=1)\n",
    "fob_basis"
   ]
  },
  {
   "cell_type": "code",
   "execution_count": null,
   "metadata": {},
   "outputs": [],
   "source": []
  },
  {
   "cell_type": "code",
   "execution_count": null,
   "metadata": {},
   "outputs": [],
   "source": []
  }
 ],
 "metadata": {
  "kernelspec": {
   "display_name": "Python 3",
   "language": "python",
   "name": "python3"
  },
  "language_info": {
   "codemirror_mode": {
    "name": "ipython",
    "version": 3
   },
   "file_extension": ".py",
   "mimetype": "text/x-python",
   "name": "python",
   "nbconvert_exporter": "python",
   "pygments_lexer": "ipython3",
   "version": "3.8.5"
  }
 },
 "nbformat": 4,
 "nbformat_minor": 2
}
