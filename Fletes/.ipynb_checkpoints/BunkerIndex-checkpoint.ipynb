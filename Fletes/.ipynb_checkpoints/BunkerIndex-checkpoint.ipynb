{
 "cells": [
  {
   "cell_type": "code",
   "execution_count": 62,
   "metadata": {},
   "outputs": [],
   "source": [
    "import requests\n",
    "import pandas as pd\n",
    "from bs4 import BeautifulSoup"
   ]
  },
  {
   "cell_type": "code",
   "execution_count": 42,
   "metadata": {},
   "outputs": [],
   "source": [
    "login_url='https://bunkerindex.com/login.php'\n",
    "url='https://bunkerindex.com/prices/port-daily-prices-2010-01-ifo380.php?port_id=532'\n",
    "\n",
    "payload = {\n",
    "    'redirect': 'index.php',\n",
    "    'user_username': 'rolandosolis',\n",
    "    'user_password': 'Laguna1126$',\n",
    "    'submit': 'Log In'\n",
    "}"
   ]
  },
  {
   "cell_type": "code",
   "execution_count": 69,
   "metadata": {},
   "outputs": [
    {
     "name": "stdout",
     "output_type": "stream",
     "text": [
      "         Date   Price      +/-       Low - High\n",
      "0  2010-01-04  490.00    +5.00  486.00 - 496.00\n",
      "1  2010-01-05  500.00   +10.00  497.00 - 508.00\n",
      "2  2010-01-06  500.00     0.00  498.00 - 508.00\n",
      "3  2010-01-07  507.00    +7.00  500.00 - 510.00\n",
      "4  2010-01-08  509.00    +2.00  506.00 - 515.00\n"
     ]
    }
   ],
   "source": [
    "with requests.Session() as s:\n",
    "    login = s.post(login_url, data=payload)\n",
    "    req = s.get(url)\n",
    "    soup = BeautifulSoup(req.content, 'html.parser')\n",
    "    #print(soup)\n",
    "\n",
    "    table_header=soup.find('thead')\n",
    "    header_rows=table_header.find_all('tr')\n",
    "    header = []\n",
    "    \n",
    "    for tr in header_rows:\n",
    "        th = tr.find_all('th')\n",
    "        row = [tr.text for tr in th]\n",
    "        header = row\n",
    "    \n",
    "    table_content=soup.find('tbody')\n",
    "    content_rows = table_content.find_all('tr')\n",
    "    data = []\n",
    "    \n",
    "    for tr in table_rows:\n",
    "        td = tr.find_all('td')\n",
    "        row = [tr.text for tr in td]\n",
    "        data.append(row)\n",
    "    \n",
    "    bunkerIndex_data = pd.DataFrame(data, columns=header)\n",
    "    print(bunkerIndex_data.head())"
   ]
  }
 ],
 "metadata": {
  "kernelspec": {
   "display_name": "Python 3",
   "language": "python",
   "name": "python3"
  },
  "language_info": {
   "codemirror_mode": {
    "name": "ipython",
    "version": 3
   },
   "file_extension": ".py",
   "mimetype": "text/x-python",
   "name": "python",
   "nbconvert_exporter": "python",
   "pygments_lexer": "ipython3",
   "version": "3.8.5"
  }
 },
 "nbformat": 4,
 "nbformat_minor": 4
}
