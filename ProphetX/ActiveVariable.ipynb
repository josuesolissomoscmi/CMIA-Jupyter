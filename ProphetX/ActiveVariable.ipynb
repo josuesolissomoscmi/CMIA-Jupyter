{
 "cells": [
  {
   "cell_type": "code",
   "execution_count": 2,
   "metadata": {},
   "outputs": [],
   "source": [
    "import logging\n",
    "import requests\n",
    "import time\n",
    "import pandas as pd\n",
    "import pyodbc\n",
    "import urllib.request\n",
    "import urllib.parse\n",
    "import datetime\n",
    "import json\n",
    "from io import BytesIO\n",
    "from io import StringIO\n",
    "from dateutil.relativedelta import relativedelta\n",
    "from azure.storage.blob import BlockBlobService, PublicAccess"
   ]
  },
  {
   "cell_type": "code",
   "execution_count": 4,
   "metadata": {},
   "outputs": [],
   "source": [
    "sql_activo = \"SELECT commodity, MAX(fecha) FROM(SELECT [FCT_DT] fecha, REPLACE(LEFT(TCKR_SYMBL_CD, LEN(TCKR_SYMBL_CD)-2), '@', '') commodity FROM [ST_PROPHETX].[CMMDTY_ACTV_CNTRCT_PRC_HSTRY_FCT] ) t WHERE commodity <> 'QCL' GROUP BY commodity\""
   ]
  },
  {
   "cell_type": "code",
   "execution_count": 14,
   "metadata": {},
   "outputs": [],
   "source": [
    "date_format = '%m-%d-%Y'"
   ]
  },
  {
   "cell_type": "code",
   "execution_count": 5,
   "metadata": {},
   "outputs": [],
   "source": [
    "headers = ['TickerSymbol', 'Date', 'Open', 'High', 'Low', 'Close', 'OI', 'Volume']"
   ]
  },
  {
   "cell_type": "code",
   "execution_count": 6,
   "metadata": {},
   "outputs": [],
   "source": [
    "expiration_months_market_commodities = {\n",
    "        'C': [['H', 'K', 'N', 'U', 'Z'], 'CBOT'],\n",
    "        'W': [['H', 'K', 'N', 'U', 'Z'], 'CBOT'],\n",
    "        'KW': [['H', 'K', 'N', 'U', 'Z'], 'KCBT'],\n",
    "        'MW': [['H', 'K', 'N', 'U', 'Z'], ''],\n",
    "        'S': [['F', 'H', 'K', 'N', 'Q', 'U', 'X'], 'CBOT'],\n",
    "        'SM': [['F', 'H', 'K', 'N', 'Q', 'U', 'V', 'Z'], 'CBOT'],\n",
    "        'BO': [['F', 'H', 'K', 'N', 'Q', 'U', 'V', 'Z'], 'CBOT']\n",
    "    }"
   ]
  },
  {
   "cell_type": "code",
   "execution_count": 7,
   "metadata": {},
   "outputs": [],
   "source": [
    "base_url_prophetex = 'http://pxweb.dtn.com/PXWebSvc/PXServiceWeb.svc/'\n",
    "history_method = 'GetDailyHistory'"
   ]
  },
  {
   "cell_type": "code",
   "execution_count": 8,
   "metadata": {},
   "outputs": [],
   "source": [
    "def get_last_record_date(sql):\n",
    "    server = 'grainpredictive.database.windows.net'\n",
    "    database = 'gpi'\n",
    "    username = 'gpi'\n",
    "    password = 'Cmi@2019$A'\n",
    "    driver= '{ODBC Driver 17 for SQL Server}'\n",
    "    cnxn = pyodbc.connect('DRIVER='+driver+';SERVER='+server+';PORT=1433;DATABASE='+database+';UID='+username+';PWD='+ password)\n",
    "    cursor = cnxn.cursor()\n",
    "    cursor.execute(sql)\n",
    "    dates = []\n",
    "    for row in cursor:\n",
    "        date_row = []\n",
    "        commodity = row[0]\n",
    "        date = row[1]\n",
    "        date_row.append(commodity)\n",
    "        date_row.append(date)\n",
    "        dates.append(date_row)\n",
    "    return dates"
   ]
  },
  {
   "cell_type": "code",
   "execution_count": 9,
   "metadata": {},
   "outputs": [],
   "source": [
    "def get_futures_prices(symbols, market):\n",
    "    futures_data = pd.DataFrame(columns=headers)\n",
    "    for i in range(len(symbols)):\n",
    "        time.sleep(2)\n",
    "        url = base_url_prophetex + history_method\n",
    "        params = urllib.parse.urlencode(\n",
    "            {\n",
    "                'UserID':'ws@mfgrains.com',\n",
    "                'Password': 'Kr5o8N',\n",
    "                'Symbol': symbols[i][2],\n",
    "                'StartDate': symbols[i][0],\n",
    "                'EndDate': symbols[i][1],\n",
    "                'Limit': 8000,\n",
    "                'Market': market,\n",
    "                'Format': 'CSV'\n",
    "            }\n",
    "        )\n",
    "        req = urllib.request.urlopen(url + '?%s' % params)\n",
    "        print(req.geturl())\n",
    "        content = req.read()\n",
    "        \n",
    "        df = pd.read_csv(StringIO(content.decode()), header=0)\n",
    "        print(headers)\n",
    "        #Si no hay informacion se genera el dataframe solo con encabezados\n",
    "        if not df.empty:\n",
    "           futures_data = futures_data.append(df[headers])\n",
    "    return futures_data"
   ]
  },
  {
   "cell_type": "code",
   "execution_count": 10,
   "metadata": {},
   "outputs": [],
   "source": [
    "def get_close_values_activo(commodity, last_date):\n",
    "    start_date = last_date + datetime.timedelta(days=1)\n",
    "    end_date = datetime.datetime.now() - datetime.timedelta(days=1)\n",
    "    #Si la fecha inicial es mayor a la fecha final no debe devolver datos\n",
    "    if (start_date.strftime(\"%Y-%m-%d\") > end_date.strftime(\"%Y-%m-%d\")):\n",
    "        futures_data = pd.DataFrame(columns=headers)\n",
    "        return futures_data    \n",
    "    print(\"Commodity: \"+commodity)\n",
    "    print(\"From \"+start_date.strftime(\"%Y-%m-%d\")+\" to \"+end_date.strftime(\"%Y-%m-%d\"))\n",
    "    commodity_query = commodity\n",
    "    if (commodity_query != 'QCL'):\n",
    "        commodity_query = '@'+commodity_query\n",
    "    #\"expiration_months_market_commodities\" Es un listado de donde se obtiene los meses de expiracion de contratos en funcion del commoditie que se pasa por parametro\n",
    "    expiration_months_market_commodity = expiration_months_market_commodities.get(commodity)\n",
    "    #Se forma el rango de fecha y comoditie que se quiere obtener, ejemplo: symbols_ranges = ['02-01-2020', '02-02-2020', '@W@C']\n",
    "    symbols_ranges = []\n",
    "    symbol_range = []\n",
    "    symbol_range.append(start_date.strftime(date_format))\n",
    "    symbol_range.append(end_date.strftime(date_format))\n",
    "    symbol_range.append(commodity_query+\"@A\")\n",
    "    symbols_ranges.append(symbol_range)\n",
    "    #Se hace la consulta a la pagina, se pasa el rango de fecha y el commoditie, asi como el mercado como parametro\n",
    "    close_values = get_futures_prices(symbols_ranges, expiration_months_market_commodity[1])\n",
    "    return close_values"
   ]
  },
  {
   "cell_type": "code",
   "execution_count": 11,
   "metadata": {},
   "outputs": [],
   "source": [
    "def upload_azure(values, file_name):\n",
    "    # Create the BlockBlockService that is used to call the Blob service for the storage account\n",
    "    block_blob_service = BlockBlobService(account_name='gpistore', account_key='zfKM5R0PuPwR0F+pPsgs5BW/AQjAxv5fwKojoP2W38II++qfT6e+axFrRAcTOmKi/8U0tyJbrB2A3XCd7W7o6A==')\n",
    "\n",
    "    # Create a container called 'quickstartblobs'.\n",
    "    container_name ='gpistore'\n",
    "    block_blob_service.create_container(container_name)\n",
    "\n",
    "    # Set the permission so the blobs are public.\n",
    "    block_blob_service.set_container_acl(container_name, public_access=PublicAccess.Container)    \n",
    "\n",
    "    #Extraccion de datos\n",
    "    name = file_name+'.csv'\n",
    "    values_csv = values.to_csv(header=True,index=False,encoding='utf-8-sig')\n",
    "    block_blob_service.create_blob_from_text(container_name,name,values_csv)\n",
    "    return f'Extraccion de ProphetX  de {file_name} exitosa.'\n"
   ]
  },
  {
   "cell_type": "code",
   "execution_count": 12,
   "metadata": {},
   "outputs": [],
   "source": [
    "def COMMODITIES_PRICE_HISTORY_CA():\n",
    "    records_activo = get_last_record_date(sql_activo)\n",
    "    data = pd.DataFrame(columns=headers)\n",
    "    for i in range(len(records_activo)):\n",
    "        commodity = records_activo[i][0]\n",
    "        last_date = records_activo[i][1]\n",
    "        values_continuo = get_close_values_activo(commodity, last_date)\n",
    "        data = data.append(values_continuo[headers])\n",
    "    data['actualizacion'] = datetime.datetime.now()\n",
    "    \n",
    "    if data.empty:\n",
    "        r = '{\"Result\":\"False\"}'\n",
    "    else:\n",
    "        r = '{\"Result\":\"True\"}'\n",
    "        data = data.replace('---','0')  \n",
    "    \n",
    "    #upload_azure(data, 'COMMODITIES_PRICE_HISTORY_CA')\n",
    "    data.to_csv('COMMODITIES_PRICE_HISTORY_CA.csv',index=False)\n",
    "    return r"
   ]
  },
  {
   "cell_type": "code",
   "execution_count": 15,
   "metadata": {},
   "outputs": [
    {
     "name": "stdout",
     "output_type": "stream",
     "text": [
      "Commodity: W\n",
      "From 2001-01-03 to 2020-09-16\n",
      "http://pxweb.dtn.com/PXWebSvc/PXServiceWeb.svc/GetDailyHistory?UserID=ws%40mfgrains.com&Password=Kr5o8N&Symbol=%40W%40A&StartDate=01-03-2001&EndDate=09-16-2020&Limit=8000&Market=CBOT&Format=CSV\n",
      "['TickerSymbol', 'Date', 'Open', 'High', 'Low', 'Close', 'OI', 'Volume']\n",
      "Commodity: S\n",
      "From 2001-01-03 to 2020-09-16\n",
      "http://pxweb.dtn.com/PXWebSvc/PXServiceWeb.svc/GetDailyHistory?UserID=ws%40mfgrains.com&Password=Kr5o8N&Symbol=%40S%40A&StartDate=01-03-2001&EndDate=09-16-2020&Limit=8000&Market=CBOT&Format=CSV\n",
      "['TickerSymbol', 'Date', 'Open', 'High', 'Low', 'Close', 'OI', 'Volume']\n",
      "Commodity: SM\n",
      "From 2001-01-03 to 2020-09-16\n",
      "http://pxweb.dtn.com/PXWebSvc/PXServiceWeb.svc/GetDailyHistory?UserID=ws%40mfgrains.com&Password=Kr5o8N&Symbol=%40SM%40A&StartDate=01-03-2001&EndDate=09-16-2020&Limit=8000&Market=CBOT&Format=CSV\n",
      "['TickerSymbol', 'Date', 'Open', 'High', 'Low', 'Close', 'OI', 'Volume']\n",
      "Commodity: BO\n",
      "From 2001-01-03 to 2020-09-16\n",
      "http://pxweb.dtn.com/PXWebSvc/PXServiceWeb.svc/GetDailyHistory?UserID=ws%40mfgrains.com&Password=Kr5o8N&Symbol=%40BO%40A&StartDate=01-03-2001&EndDate=09-16-2020&Limit=8000&Market=CBOT&Format=CSV\n",
      "['TickerSymbol', 'Date', 'Open', 'High', 'Low', 'Close', 'OI', 'Volume']\n",
      "Commodity: KW\n",
      "From 2001-01-03 to 2020-09-16\n",
      "http://pxweb.dtn.com/PXWebSvc/PXServiceWeb.svc/GetDailyHistory?UserID=ws%40mfgrains.com&Password=Kr5o8N&Symbol=%40KW%40A&StartDate=01-03-2001&EndDate=09-16-2020&Limit=8000&Market=KCBT&Format=CSV\n",
      "['TickerSymbol', 'Date', 'Open', 'High', 'Low', 'Close', 'OI', 'Volume']\n",
      "Commodity: MW\n",
      "From 2001-01-03 to 2020-09-16\n",
      "http://pxweb.dtn.com/PXWebSvc/PXServiceWeb.svc/GetDailyHistory?UserID=ws%40mfgrains.com&Password=Kr5o8N&Symbol=%40MW%40A&StartDate=01-03-2001&EndDate=09-16-2020&Limit=8000&Market=&Format=CSV\n",
      "['TickerSymbol', 'Date', 'Open', 'High', 'Low', 'Close', 'OI', 'Volume']\n",
      "Commodity: C\n",
      "From 2001-01-03 to 2020-09-16\n",
      "http://pxweb.dtn.com/PXWebSvc/PXServiceWeb.svc/GetDailyHistory?UserID=ws%40mfgrains.com&Password=Kr5o8N&Symbol=%40C%40A&StartDate=01-03-2001&EndDate=09-16-2020&Limit=8000&Market=CBOT&Format=CSV\n",
      "['TickerSymbol', 'Date', 'Open', 'High', 'Low', 'Close', 'OI', 'Volume']\n"
     ]
    },
    {
     "data": {
      "text/plain": [
       "'{\"Result\":\"True\"}'"
      ]
     },
     "execution_count": 15,
     "metadata": {},
     "output_type": "execute_result"
    }
   ],
   "source": [
    "COMMODITIES_PRICE_HISTORY_CA()"
   ]
  }
 ],
 "metadata": {
  "kernelspec": {
   "display_name": "Python 3",
   "language": "python",
   "name": "python3"
  },
  "language_info": {
   "codemirror_mode": {
    "name": "ipython",
    "version": 3
   },
   "file_extension": ".py",
   "mimetype": "text/x-python",
   "name": "python",
   "nbconvert_exporter": "python",
   "pygments_lexer": "ipython3",
   "version": "3.8.5"
  }
 },
 "nbformat": 4,
 "nbformat_minor": 2
}
